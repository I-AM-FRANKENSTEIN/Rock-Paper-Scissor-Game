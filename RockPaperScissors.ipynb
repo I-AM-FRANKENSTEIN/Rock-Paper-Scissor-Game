{
 "cells": [
  {
   "cell_type": "code",
   "execution_count": 78,
   "metadata": {},
   "outputs": [],
   "source": [
    "def userChoice():\n",
    "    player_choice=input(\"Enter your choice:- \")\n",
    "    while not (player_choice==\"rock\" or player_choice==\"paper\" or player_choice==\"scissors\"):\n",
    "        print(\"Enter your choice again\")\n",
    "        player_choice=input(\"Enter your choice:- \")\n",
    "    return player_choice"
   ]
  },
  {
   "cell_type": "code",
   "execution_count": 79,
   "metadata": {},
   "outputs": [
    {
     "name": "stdout",
     "output_type": "stream",
     "text": [
      "Enter your choice:- rock\n"
     ]
    },
    {
     "data": {
      "text/plain": [
       "'rock'"
      ]
     },
     "execution_count": 79,
     "metadata": {},
     "output_type": "execute_result"
    }
   ],
   "source": [
    "userChoice()"
   ]
  },
  {
   "cell_type": "code",
   "execution_count": 76,
   "metadata": {},
   "outputs": [],
   "source": [
    "import random\n",
    "def botChoice():\n",
    "    lst=[\"rock\",\"paper\",\"scissors\"]\n",
    "    bot_choice=random.choice(lst)\n",
    "    return bot_choice"
   ]
  },
  {
   "cell_type": "code",
   "execution_count": 77,
   "metadata": {},
   "outputs": [
    {
     "data": {
      "text/plain": [
       "'paper'"
      ]
     },
     "execution_count": 77,
     "metadata": {},
     "output_type": "execute_result"
    }
   ],
   "source": [
    "botChoice()"
   ]
  },
  {
   "cell_type": "code",
   "execution_count": 73,
   "metadata": {},
   "outputs": [],
   "source": [
    "def gameLogic(player,bot):\n",
    "    if player==\"rock\" and bot==\"rock\":\n",
    "        return \"draw\"\n",
    "    elif player==\"rock\" and bot==\"paper\":\n",
    "        return \"bot\"\n",
    "    elif player==\"rock\" and bot==\"scissors\":\n",
    "        return \"player\"\n",
    "    elif player== \"paper\" and bot==\"scissors\":\n",
    "        return \"bot\"\n",
    "    elif player==\"paper\" and bot==\"rock\":\n",
    "        return \"player\"\n",
    "    elif player==\"paper\" and bot==\"paper\":\n",
    "        return \"draw\"\n",
    "    elif player==\"scissors\" and bot==\"rock\":\n",
    "        return \"bot\"\n",
    "    elif player==\"scissors\" and bot==\"paper\":\n",
    "        return \"player\"\n",
    "    elif player==\"scissors\" and bot==\"scissors\":\n",
    "        return \"draw\"\n",
    "    else:\n",
    "        return \"invalid\""
   ]
  },
  {
   "cell_type": "code",
   "execution_count": 75,
   "metadata": {},
   "outputs": [
    {
     "data": {
      "text/plain": [
       "'player'"
      ]
     },
     "execution_count": 75,
     "metadata": {},
     "output_type": "execute_result"
    }
   ],
   "source": [
    "gameLogic(\"paper\",\"rock\")"
   ]
  },
  {
   "cell_type": "code",
   "execution_count": 70,
   "metadata": {},
   "outputs": [],
   "source": [
    "def RPS():\n",
    "    repeat=\"y\"\n",
    "    user_score=0\n",
    "    bot_score=0\n",
    "    while repeat!=\"n\":\n",
    "        x=userChoice()\n",
    "        y=botChoice()\n",
    "        print(\"User Choice-->\",x)\n",
    "        print(\"Bot Choice-->\",y)\n",
    "        winner=gameLogic(x,y)\n",
    "        if winner==\"player\":\n",
    "            user_score+=1\n",
    "        elif winner==\"bot\":\n",
    "            bot_score+=1\n",
    "        else:\n",
    "            user_score+=0\n",
    "            bot_score+=0\n",
    "        print(\"\\n\\n-----SCOREBOARD-----\")\n",
    "        print(\"USER SCORE -\",user_score)\n",
    "        print(\"BOT SCORE -\",bot_score)\n",
    "        if winner==\"bot\":\n",
    "            print(\"\\nBOT WON!!\")\n",
    "        elif winner==\"player\":\n",
    "            print(\"\\nYOU WON!!\")\n",
    "        else:\n",
    "            print(\"\\nMATCH DRAW!!\")\n",
    "        repeat=input(\"Do you want to continue:(y/n):- \")"
   ]
  },
  {
   "cell_type": "code",
   "execution_count": 80,
   "metadata": {
    "scrolled": true
   },
   "outputs": [
    {
     "name": "stdout",
     "output_type": "stream",
     "text": [
      "Enter your choice:- rock\n",
      "User Choice--> rock\n",
      "Bot Choice--> scissor\n",
      "\n",
      "\n",
      "-----SCOREBOARD-----\n",
      "USER SCORE - 1\n",
      "BOT SCORE - 0\n",
      "\n",
      "YOU WON!!\n",
      "Do you want to continue:(y/n):- y\n",
      "Enter your choice:- paper\n",
      "User Choice--> paper\n",
      "Bot Choice--> rock\n",
      "\n",
      "\n",
      "-----SCOREBOARD-----\n",
      "USER SCORE - 2\n",
      "BOT SCORE - 0\n",
      "\n",
      "YOU WON!!\n",
      "Do you want to continue:(y/n):- y\n",
      "Enter your choice:- scissor\n",
      "User Choice--> scissor\n",
      "Bot Choice--> scissor\n",
      "\n",
      "\n",
      "-----SCOREBOARD-----\n",
      "USER SCORE - 2\n",
      "BOT SCORE - 0\n",
      "\n",
      "MATCH DRAW!!\n",
      "Do you want to continue:(y/n):- y\n",
      "Enter your choice:- paper\n",
      "User Choice--> paper\n",
      "Bot Choice--> scissor\n",
      "\n",
      "\n",
      "-----SCOREBOARD-----\n",
      "USER SCORE - 2\n",
      "BOT SCORE - 1\n",
      "\n",
      "BOT WON!!\n",
      "Do you want to continue:(y/n):- n\n"
     ]
    }
   ],
   "source": [
    "RPS()"
   ]
  },
  {
   "cell_type": "code",
   "execution_count": null,
   "metadata": {},
   "outputs": [],
   "source": []
  }
 ],
 "metadata": {
  "kernelspec": {
   "display_name": "Python 3",
   "language": "python",
   "name": "python3"
  },
  "language_info": {
   "codemirror_mode": {
    "name": "ipython",
    "version": 3
   },
   "file_extension": ".py",
   "mimetype": "text/x-python",
   "name": "python",
   "nbconvert_exporter": "python",
   "pygments_lexer": "ipython3",
   "version": "3.8.3"
  }
 },
 "nbformat": 4,
 "nbformat_minor": 4
}
